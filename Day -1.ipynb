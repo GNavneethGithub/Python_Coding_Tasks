{
 "cells": [
  {
   "cell_type": "markdown",
   "id": "66dd16b9",
   "metadata": {},
   "source": [
    "# Pattern-1\n"
   ]
  },
  {
   "cell_type": "code",
   "execution_count": 1,
   "id": "38fd447c",
   "metadata": {},
   "outputs": [],
   "source": [
    "# n = 3\n",
    "\n",
    "#    *\n",
    "#   *_*\n",
    "#  *_*_*\n",
    "    "
   ]
  },
  {
   "cell_type": "code",
   "execution_count": 2,
   "id": "9bfafe9e",
   "metadata": {},
   "outputs": [
    {
     "name": "stdout",
     "output_type": "stream",
     "text": [
      "Day - 1\n",
      "Pattern-1\n",
      "5\n",
      "    *\n",
      "   *_*\n",
      "  *_*_*\n",
      " *_*_*_*\n",
      "*_*_*_*_*\n"
     ]
    }
   ],
   "source": [
    "print('Day - 1')\n",
    "print('Pattern-1')\n",
    "\n",
    "# Give input here\n",
    "n = int(input());\n",
    "\n",
    "#  Pattern sub function\n",
    "def StarDash(n,nmax):\n",
    "    str1 = ' '*(nmax-1-n)+'*_'*n\n",
    "    return str1.rstrip('_')\n",
    "\n",
    "# loop for printing pattern\n",
    "for i in range(1,n+1):\n",
    "    print(StarDash(i,n+1))"
   ]
  },
  {
   "cell_type": "markdown",
   "id": "69dfc4ba",
   "metadata": {},
   "source": [
    "# Pattern-2"
   ]
  },
  {
   "cell_type": "code",
   "execution_count": 3,
   "id": "a48d8649",
   "metadata": {},
   "outputs": [],
   "source": [
    "# n = 5\n",
    "\n",
    "# --------e-------- \n",
    "# ------e-d-e------ \n",
    "# ----e-d-c-d-e---- \n",
    "# --e-d-c-b-c-d-e-- \n",
    "# e-d-c-b-a-b-c-d-e \n",
    "# --e-d-c-b-c-d-e-- \n",
    "# ----e-d-c-d-e---- \n",
    "# ------e-d-e------ \n",
    "# --------e-------- "
   ]
  },
  {
   "cell_type": "code",
   "execution_count": 97,
   "id": "d9aef012",
   "metadata": {},
   "outputs": [
    {
     "name": "stdout",
     "output_type": "stream",
     "text": [
      "Day - 1\n",
      "Pattern-2\n",
      "5\n",
      "--------e--------\n",
      "------e-d-e------\n",
      "----e-d-c-d-e----\n",
      "--e-d-c-b-c-d-e--\n",
      "e-d-c-b-a-b-c-d-e\n",
      "--e-d-c-b-c-d-e--\n",
      "----e-d-c-d-e----\n",
      "------e-d-e------\n",
      "--------e--------\n"
     ]
    }
   ],
   "source": [
    "print('Day - 1')\n",
    "print('Pattern-2')\n",
    "\n",
    "# input here\n",
    "nmax = int(input());\n",
    "\n",
    "import string\n",
    "alpAll = list(string.ascii_lowercase)\n",
    "separator ='-' \n",
    "#  Pattern sub function\n",
    "def aplhaDash(i,nmax):\n",
    "    alpMax =  alpAll[0:nmax]\n",
    "    alp1   =  alpMax[i-1::]\n",
    "    alp2   = (alp1[::-1])[0:nmax-i]\n",
    "    alp3   = alp2+alp1\n",
    "    str1   = '-'*2*(i-1)+separator.join(alp3)+'-'*2*(i-1)\n",
    "    return str1\n",
    "\n",
    "for i in range(0,nmax):\n",
    "    print(aplhaDash(nmax-i,nmax))\n",
    "for j in range(0,nmax-1):\n",
    "    print(aplhaDash(j+2,nmax))"
   ]
  },
  {
   "cell_type": "code",
   "execution_count": null,
   "id": "de551e58",
   "metadata": {},
   "outputs": [],
   "source": []
  }
 ],
 "metadata": {
  "kernelspec": {
   "display_name": "Python 3 (ipykernel)",
   "language": "python",
   "name": "python3"
  },
  "language_info": {
   "codemirror_mode": {
    "name": "ipython",
    "version": 3
   },
   "file_extension": ".py",
   "mimetype": "text/x-python",
   "name": "python",
   "nbconvert_exporter": "python",
   "pygments_lexer": "ipython3",
   "version": "3.9.13"
  }
 },
 "nbformat": 4,
 "nbformat_minor": 5
}
